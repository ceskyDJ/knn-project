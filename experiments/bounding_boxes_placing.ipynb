{
 "cells": [
  {
   "cell_type": "code",
   "execution_count": 34,
   "id": "initial_id",
   "metadata": {
    "ExecuteTime": {
     "end_time": "2024-05-08T16:02:56.487244Z",
     "start_time": "2024-05-08T16:02:56.479478Z"
    },
    "collapsed": true
   },
   "outputs": [],
   "source": [
    "from pathlib import Path\n",
    "import pickle\n",
    "from PIL import Image, ImageDraw"
   ]
  },
  {
   "cell_type": "code",
   "execution_count": 26,
   "id": "5da65f18f3c84fe7",
   "metadata": {
    "ExecuteTime": {
     "end_time": "2024-05-08T15:50:55.309169Z",
     "start_time": "2024-05-08T15:50:55.306368Z"
    }
   },
   "outputs": [],
   "source": [
    "EXTENDED_DATA_PATH = Path(\"/media/filip/warehouse/fit/knn/v2/crawled-data-v2/extended_output_data/\")\n",
    "COLORS = [\"red\", \"blue\", \"green\", \"yellow\", \"brown\", \"orange\", \"pink\"]"
   ]
  },
  {
   "cell_type": "code",
   "execution_count": 39,
   "id": "c1524fc84c44861e",
   "metadata": {
    "ExecuteTime": {
     "end_time": "2024-05-08T16:16:36.476721Z",
     "start_time": "2024-05-08T16:16:36.462328Z"
    }
   },
   "outputs": [],
   "source": [
    "def offset_bbox(x: float, y: float, bbox):\n",
    "    return [bbox[0] + x, bbox[1] + y, bbox[2] + x, bbox[3] + y]"
   ]
  },
  {
   "cell_type": "code",
   "execution_count": 40,
   "id": "dd395e90b2aceb69",
   "metadata": {
    "ExecuteTime": {
     "end_time": "2024-05-08T16:16:38.637159Z",
     "start_time": "2024-05-08T16:16:38.033381Z"
    }
   },
   "outputs": [],
   "source": [
    "def draw_bounding_boxes(website_name, article_id, page):\n",
    "    with open(f\"{EXTENDED_DATA_PATH}/{website_name}/{article_id}/bounding-boxes/{page}.pickle\", 'rb') as f:\n",
    "        bounding_boxes_data = pickle.load(f)\n",
    "    image = Image.open(f\"{EXTENDED_DATA_PATH}/{website_name}/{article_id}/screenshot/{page}.png\")\n",
    "\n",
    "    for _, bounding_boxes_value in bounding_boxes_data.items():\n",
    "        bounding_boxes_value: dict\n",
    "        for i, (section_name, bounding_box) in enumerate(bounding_boxes_value.items()):\n",
    "            if section_name not in ['wrapper', \"date_published\", \"text\", \"author_name\", \"parent_reference\"]:\n",
    "                continue\n",
    "            if bounding_box is None:\n",
    "                continue\n",
    "\n",
    "            bounding_box = offset_bbox(-8, 0, bounding_box)\n",
    "\n",
    "            draw_bounding_box = ImageDraw.Draw(image)\n",
    "            draw_bounding_box.rectangle(bounding_box, outline=COLORS[i])\n",
    "            draw_bounding_box.text(bounding_box, section_name, fontsize=5, fill=COLORS[i])\n",
    "\n",
    "    image.show()"
   ]
  },
  {
   "cell_type": "code",
   "execution_count": null,
   "id": "96691aef",
   "metadata": {},
   "outputs": [],
   "source": [
    "draw_bounding_boxes(\"aha\", 8, 1)"
   ]
  }
 ],
 "metadata": {
  "kernelspec": {
   "display_name": "Python 3",
   "language": "python",
   "name": "python3"
  },
  "language_info": {
   "codemirror_mode": {
    "name": "ipython",
    "version": 2
   },
   "file_extension": ".py",
   "mimetype": "text/x-python",
   "name": "python",
   "nbconvert_exporter": "python",
   "pygments_lexer": "ipython2",
   "version": "2.7.6"
  }
 },
 "nbformat": 4,
 "nbformat_minor": 5
}
