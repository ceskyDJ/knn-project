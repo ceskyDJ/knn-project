{
 "cells": [
  {
   "cell_type": "code",
   "id": "initial_id",
   "metadata": {
    "collapsed": true,
    "ExecuteTime": {
     "end_time": "2024-05-09T19:22:09.899065Z",
     "start_time": "2024-05-09T19:22:09.895057Z"
    }
   },
   "source": [
    "from collections import defaultdict\n",
    "from pathlib import Path\n",
    "import pickle\n",
    "from typing import List, Dict, Optional\n",
    "\n",
    "from PIL import Image, ImageDraw"
   ],
   "outputs": [],
   "execution_count": 288
  },
  {
   "cell_type": "code",
   "id": "5da65f18f3c84fe7",
   "metadata": {
    "ExecuteTime": {
     "end_time": "2024-05-09T16:22:00.690029Z",
     "start_time": "2024-05-09T16:22:00.677942Z"
    }
   },
   "source": [
    "EXTENDED_DATA_PATH = Path(\"/tmp/knn/crawled-data-v2.5/extended_output_data\")\n",
    "COLORS = [\"red\", \"blue\", \"green\", \"orange\", \"pink\", \"violet\"]\n",
    "OFFSETS = defaultdict(lambda: (0, 0), {\n",
    "    'aha': (-7, 0),\n",
    "    'auto': (-7, 0),\n",
    "    'avmania': (-7, 0),\n",
    "    'blesk': (-7, 0),\n",
    "    'connect': (-7, 0),\n",
    "    'doupe': (-7, 0),\n",
    "    'e15': (-6, 0),\n",
    "    'idnes': (-6, 0),\n",
    "    'isport': (-6, 0),\n",
    "    'lidovky': (-6, 0),\n",
    "    'lupa': (-6, 0),\n",
    "    'mobilmania': (-6, 0),\n",
    "    'pravda': (6, 0),\n",
    "    'sme': (-6, 0),\n",
    "    'vtm': (-7, 0),\n",
    "    'zive': (-6, 0)\n",
    "})"
   ],
   "outputs": [],
   "execution_count": 220
  },
  {
   "cell_type": "code",
   "id": "c1524fc84c44861e",
   "metadata": {
    "ExecuteTime": {
     "end_time": "2024-05-08T20:44:41.587056Z",
     "start_time": "2024-05-08T20:44:41.576779Z"
    }
   },
   "source": [
    "def apply_offset(offset: List[float], bounding_box: List[float]):\n",
    "    x = offset[0]\n",
    "    y = offset[1]\n",
    "\n",
    "    return [bounding_box[0] + x, bounding_box[1] + y, bounding_box[2] + x, bounding_box[3] + y]"
   ],
   "outputs": [],
   "execution_count": 62
  },
  {
   "metadata": {
    "ExecuteTime": {
     "end_time": "2024-05-09T19:42:49.754384Z",
     "start_time": "2024-05-09T19:42:49.737274Z"
    }
   },
   "cell_type": "code",
   "source": [
    "def apply_higher_level_fixes(website_name: str, bounding_boxes_value: Dict[str, Optional[List[float]]]) -> Dict[str, Optional[List[float]]]:\n",
    "    date_bounding_box = bounding_boxes_value['date_published']\n",
    "    author_bounding_box = bounding_boxes_value['author_name']\n",
    "\n",
    "    # Zive and child servers:\n",
    "    if website_name in [\"zive\", \"doupe\", \"vtm\", \"mobilmania\", \"connect\", \"avmania\"]:\n",
    "        if author_bounding_box[0] >= date_bounding_box[0] and author_bounding_box[1] >= date_bounding_box[1] and author_bounding_box[2] <= date_bounding_box[2] and author_bounding_box[3] <= date_bounding_box[3]:\n",
    "            # Fix published date bounding box, when there is author name bounding box in it\n",
    "            date_bounding_box[0] = author_bounding_box[2]\n",
    "        else:\n",
    "            # Fix published date bounding box, when it is full-width sized, so part of the profile picture is in there\n",
    "            date_bounding_box[0] = author_bounding_box[0]\n",
    "\n",
    "    # Pravda: fix published date bounding box, when there is author name bounding box in it\n",
    "    if website_name == \"pravda\":\n",
    "        if author_bounding_box[0] >= date_bounding_box[0] and author_bounding_box[1] >= date_bounding_box[1] and author_bounding_box[2] - 1 <= date_bounding_box[2] and author_bounding_box[3] - 1 <= date_bounding_box[3]:\n",
    "            date_bounding_box[1] = author_bounding_box[3]\n",
    "\n",
    "    # Sme: remove parent references (\n",
    "    if website_name == \"sme\":\n",
    "        bounding_boxes_value['parent_reference'] = None\n",
    "\n",
    "    bounding_boxes_value['date_published'] = date_bounding_box\n",
    "\n",
    "    return bounding_boxes_value"
   ],
   "id": "c630c61f2fd76e2",
   "outputs": [],
   "execution_count": 291
  },
  {
   "cell_type": "code",
   "id": "dd395e90b2aceb69",
   "metadata": {
    "ExecuteTime": {
     "end_time": "2024-05-09T19:42:52.816340Z",
     "start_time": "2024-05-09T19:42:52.800959Z"
    }
   },
   "source": [
    "def draw_bounding_boxes(website_name: str, article_id: int, page: int):\n",
    "    with open(f\"{EXTENDED_DATA_PATH}/{website_name}/{article_id}/bounding-boxes/{page}.pickle\", 'rb') as f:\n",
    "        bounding_boxes_data = pickle.load(f)\n",
    "    image = Image.open(f\"{EXTENDED_DATA_PATH}/{website_name}/{article_id}/screenshot/{page}.png\")\n",
    "\n",
    "    for _, bounding_boxes_value in bounding_boxes_data.items():\n",
    "        bounding_boxes_value = apply_higher_level_fixes(website_name, bounding_boxes_value)\n",
    "\n",
    "        color_counter = 0\n",
    "        for section_name, bounding_box in bounding_boxes_value.items():\n",
    "            if section_name not in ['wrapper', \"date_published\", \"text\", \"author_name\", \"parent_reference\"]:\n",
    "                continue\n",
    "            if bounding_box is None:\n",
    "                continue\n",
    "\n",
    "            bounding_box = apply_offset(OFFSETS[website_name], bounding_box)\n",
    "            text_position = [bounding_box[0], bounding_box[1] - 11]\n",
    "\n",
    "            draw_bounding_box = ImageDraw.Draw(image)\n",
    "            draw_bounding_box.rectangle(bounding_box, outline=COLORS[color_counter])\n",
    "            draw_bounding_box.text(text_position, section_name, fontsize=5, fill=COLORS[color_counter])\n",
    "\n",
    "            color_counter += 1\n",
    "\n",
    "    image.show()"
   ],
   "outputs": [],
   "execution_count": 292
  },
  {
   "cell_type": "code",
   "id": "96691aef",
   "metadata": {
    "ExecuteTime": {
     "end_time": "2024-05-09T19:44:24.049994Z",
     "start_time": "2024-05-09T19:44:23.193231Z"
    }
   },
   "source": "draw_bounding_boxes(\"vtm\", 9, 1)",
   "outputs": [],
   "execution_count": 294
  }
 ],
 "metadata": {
  "kernelspec": {
   "display_name": "Python 3",
   "language": "python",
   "name": "python3"
  },
  "language_info": {
   "codemirror_mode": {
    "name": "ipython",
    "version": 2
   },
   "file_extension": ".py",
   "mimetype": "text/x-python",
   "name": "python",
   "nbconvert_exporter": "python",
   "pygments_lexer": "ipython2",
   "version": "2.7.6"
  }
 },
 "nbformat": 4,
 "nbformat_minor": 5
}
