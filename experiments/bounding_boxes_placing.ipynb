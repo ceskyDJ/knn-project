{
 "cells": [
  {
   "cell_type": "code",
   "id": "initial_id",
   "metadata": {
    "collapsed": true,
    "ExecuteTime": {
     "end_time": "2024-05-08T20:43:44.107988Z",
     "start_time": "2024-05-08T20:43:44.100319Z"
    }
   },
   "source": [
    "from collections import defaultdict\n",
    "from pathlib import Path\n",
    "import pickle\n",
    "from typing import List\n",
    "\n",
    "from PIL import Image, ImageDraw"
   ],
   "outputs": [],
   "execution_count": 57
  },
  {
   "cell_type": "code",
   "id": "5da65f18f3c84fe7",
   "metadata": {
    "ExecuteTime": {
     "end_time": "2024-05-08T22:50:10.308645Z",
     "start_time": "2024-05-08T22:50:10.302796Z"
    }
   },
   "source": [
    "EXTENDED_DATA_PATH = Path(\"/tmp/knn/extended_output_data\")\n",
    "COLORS = [\"red\", \"blue\", \"green\", \"orange\", \"pink\", \"violet\"]\n",
    "OFFSETS = defaultdict(lambda: (0, 0), {\n",
    "    'aha': (-7, 0),\n",
    "    'auto': (-7, 0),\n",
    "    'avmania': (-7, 0),\n",
    "    'blesk': (-7, 0),\n",
    "    'connect': (-7, 0),\n",
    "    'doupe': (-7, 0),\n",
    "    'e15': (-6, 0),\n",
    "    'idnes': (-6, 0),\n",
    "    'isport': (-6, 0),\n",
    "    'lidovky': (-6, 0),\n",
    "    'lupa': (-6, 0),\n",
    "    'mobilmania': (-6, 0),\n",
    "    'pravda': (-6, 0),\n",
    "    'sme': (-6, 0),\n",
    "    'vtm': (-7, 0),\n",
    "    'zive': (-6, 0)\n",
    "})"
   ],
   "outputs": [],
   "execution_count": 152
  },
  {
   "cell_type": "code",
   "id": "c1524fc84c44861e",
   "metadata": {
    "ExecuteTime": {
     "end_time": "2024-05-08T20:44:41.587056Z",
     "start_time": "2024-05-08T20:44:41.576779Z"
    }
   },
   "source": [
    "def apply_offset(offset: List[float], bounding_box: List[float]):\n",
    "    x = offset[0]\n",
    "    y = offset[1]\n",
    "\n",
    "    return [bounding_box[0] + x, bounding_box[1] + y, bounding_box[2] + x, bounding_box[3] + y]"
   ],
   "outputs": [],
   "execution_count": 62
  },
  {
   "cell_type": "code",
   "id": "dd395e90b2aceb69",
   "metadata": {
    "ExecuteTime": {
     "end_time": "2024-05-08T21:36:42.810800Z",
     "start_time": "2024-05-08T21:36:42.800975Z"
    }
   },
   "source": [
    "def draw_bounding_boxes(website_name: str, article_id: int, page: int):\n",
    "    with open(f\"{EXTENDED_DATA_PATH}/{website_name}/{article_id}/bounding-boxes/{page}.pickle\", 'rb') as f:\n",
    "        bounding_boxes_data = pickle.load(f)\n",
    "    image = Image.open(f\"{EXTENDED_DATA_PATH}/{website_name}/{article_id}/screenshot/{page}.png\")\n",
    "\n",
    "    for _, bounding_boxes_value in bounding_boxes_data.items():\n",
    "        bounding_boxes_value: dict\n",
    "        color_counter = 0\n",
    "        for section_name, bounding_box in bounding_boxes_value.items():\n",
    "            if section_name not in ['wrapper', \"date_published\", \"text\", \"author_name\", \"parent_reference\"]:\n",
    "                continue\n",
    "            if bounding_box is None:\n",
    "                continue\n",
    "\n",
    "            bounding_box = apply_offset(OFFSETS[website_name], bounding_box)\n",
    "            text_position = [bounding_box[0], bounding_box[1] - 11]\n",
    "\n",
    "            draw_bounding_box = ImageDraw.Draw(image)\n",
    "            draw_bounding_box.rectangle(bounding_box, outline=COLORS[color_counter])\n",
    "            draw_bounding_box.text(text_position, section_name, fontsize=5, fill=COLORS[color_counter])\n",
    "\n",
    "            color_counter += 1\n",
    "\n",
    "    image.show()"
   ],
   "outputs": [],
   "execution_count": 80
  },
  {
   "cell_type": "code",
   "id": "96691aef",
   "metadata": {
    "ExecuteTime": {
     "end_time": "2024-05-09T00:10:07.229344Z",
     "start_time": "2024-05-09T00:10:06.697580Z"
    }
   },
   "source": "draw_bounding_boxes(\"doupe\", 1, 1)",
   "outputs": [],
   "execution_count": 155
  }
 ],
 "metadata": {
  "kernelspec": {
   "display_name": "Python 3",
   "language": "python",
   "name": "python3"
  },
  "language_info": {
   "codemirror_mode": {
    "name": "ipython",
    "version": 2
   },
   "file_extension": ".py",
   "mimetype": "text/x-python",
   "name": "python",
   "nbconvert_exporter": "python",
   "pygments_lexer": "ipython2",
   "version": "2.7.6"
  }
 },
 "nbformat": 4,
 "nbformat_minor": 5
}
